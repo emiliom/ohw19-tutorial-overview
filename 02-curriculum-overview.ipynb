{
 "cells": [
  {
   "cell_type": "markdown",
   "metadata": {},
   "source": [
    "# Oceanhackweek 2019 At A Glance"
   ]
  },
  {
   "cell_type": "markdown",
   "metadata": {},
   "source": [
    "We want you to be able to:\n",
    "- Describe the flow of OHW19 tutorials\n",
    "- Identify specific topics you are interested in diving deeper to explore through projects"
   ]
  },
  {
   "cell_type": "markdown",
   "metadata": {},
   "source": [
    "## Flow of Curriculum"
   ]
  },
  {
   "cell_type": "markdown",
   "metadata": {},
   "source": [
    "The OHW19 curriculum follows the general process of answering scientific questions based on observational and/or model ocean data. We identified a few common needs in modern ocean sciences:"
   ]
  },
  {
   "cell_type": "code",
   "execution_count": 1,
   "metadata": {},
   "outputs": [],
   "source": [
    "# Put curriculum table here"
   ]
  },
  {
   "cell_type": "markdown",
   "metadata": {},
   "source": [
    "## Slack channels\n",
    "\n",
    "_Add yourself_ to the channels you are interested in!\n",
    "\n",
    "**#projects** - Pitch and get feedback for OHW19 projects. Please pin you project ideas so others can scroll through them quickly.\n",
    "\n",
    "**#data_science** - Ask for help with any data science questions (git, Python, methods, tools, etc.).\n",
    "\n",
    "**#ocean_data_systems** - Ask questions about existing ocean data sources and access.\n",
    "\n"
   ]
  },
  {
   "cell_type": "code",
   "execution_count": null,
   "metadata": {},
   "outputs": [],
   "source": []
  },
  {
   "cell_type": "code",
   "execution_count": null,
   "metadata": {},
   "outputs": [],
   "source": []
  },
  {
   "cell_type": "code",
   "execution_count": null,
   "metadata": {},
   "outputs": [],
   "source": []
  },
  {
   "cell_type": "code",
   "execution_count": null,
   "metadata": {},
   "outputs": [],
   "source": []
  }
 ],
 "metadata": {
  "kernelspec": {
   "display_name": "ohw19",
   "language": "python",
   "name": "ohw19"
  },
  "language_info": {
   "codemirror_mode": {
    "name": "ipython",
    "version": 3
   },
   "file_extension": ".py",
   "mimetype": "text/x-python",
   "name": "python",
   "nbconvert_exporter": "python",
   "pygments_lexer": "ipython3",
   "version": "3.7.3"
  }
 },
 "nbformat": 4,
 "nbformat_minor": 2
}
