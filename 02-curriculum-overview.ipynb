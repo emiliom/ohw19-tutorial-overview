{
 "cells": [
  {
   "cell_type": "markdown",
   "metadata": {},
   "source": [
    "# Oceanhackweek 2019 At A Glance"
   ]
  },
  {
   "cell_type": "markdown",
   "metadata": {},
   "source": [
    "We want you to be able to:\n",
    "- Describe the flow of OHW19 tutorials\n",
    "- Identify specific topics you are interested in diving deeper to explore through projects"
   ]
  },
  {
   "cell_type": "markdown",
   "metadata": {},
   "source": [
    "## Curriculum Overview"
   ]
  },
  {
   "cell_type": "markdown",
   "metadata": {},
   "source": [
    "The OHW19 curriculum follows the general process of answering scientific questions based on observational and/or model ocean data.\n",
    "\n",
    "All tutorials will be recorded. The recordings will be posted on the [OHW19 Schedule page](https://oceanhackweek.github.io/curriculum.html) as soon as possible after the session.\n",
    "\n",
    "The tutorial repositories are hosted under the [Oceanhackweek GitHub organization](https://github.com/oceanhackweek)."
   ]
  },
  {
   "cell_type": "markdown",
   "metadata": {},
   "source": [
    "![](./img/ohw19_curriculum_overview.png)"
   ]
  },
  {
   "cell_type": "markdown",
   "metadata": {},
   "source": [
    "## Lightning Talk - Demo a Tool!\n",
    "\n",
    "Interested in sharing a tool that you are using or developing?\n",
    "\n",
    "[Sign up on this Google Sheet](https://docs.google.com/spreadsheets/d/19iJBO9S-05RwiOyD4CsIjiPU0yx5Cl9WnfHICSlkOps/edit?usp=sharing) to give a 5-10 mins presentation on Wednesday 1:30-2:30pm."
   ]
  },
  {
   "cell_type": "markdown",
   "metadata": {},
   "source": [
    "## Git"
   ]
  },
  {
   "cell_type": "markdown",
   "metadata": {},
   "source": [
    "**Make sure to have `git` installed on your local machine by 4pm today!**\n",
    "\n",
    "The `git` tutorial will follow immediately from the project discussion, so you'll be practicing `git` in the context of your project(s) and with your teammates. \n",
    "\n",
    "We will go through:\n",
    "- Basic `git` operations: `clone`, `diff`, `add`, `commit`, `push`, and interacting with your GitHub repository.\n",
    "- More advanced materials such as `fork` and configuring `remote` to make project collaboration easier.\n",
    "\n",
    "Come ask any questions at the helpdesks!"
   ]
  },
  {
   "cell_type": "markdown",
   "metadata": {},
   "source": [
    "## Data Access & Visualization\n",
    "\n",
    "**Programmatic query and access of multiple ocean data systems**\n",
    "- Systems: [IOOS](https://ioos.noaa.gov/), [OOI](https://oceanobservatories.org/), [PO.DAAC](https://podaac.jpl.nasa.gov/), etc.\n",
    "- Approach: [ERDDAP](http://www.ifremer.fr/erddap/index.html), [THREDDS data server](https://www.unidata.ucar.edu/software/tds/current/reference/Services.html), system-specific APIs\n",
    "\n",
    "The example below uses materials created by Filipe Fernandes ([@ocefpaf](https://github.com/ocefpaf)) that can be accessed [here](https://github.com/oceanhackweek/ohw19-tutorial-data-access-viz/blob/master/Extras-ERDDAP_Argo.ipynb)."
   ]
  },
  {
   "cell_type": "code",
   "execution_count": null,
   "metadata": {},
   "outputs": [],
   "source": [
    "from erddapy import ERDDAP\n",
    "\n",
    "server = \"http://www.ifremer.fr/erddap\"\n",
    "e = ERDDAP(server=server)"
   ]
  },
  {
   "cell_type": "markdown",
   "metadata": {},
   "source": [
    "### Query and access data"
   ]
  },
  {
   "cell_type": "code",
   "execution_count": null,
   "metadata": {},
   "outputs": [],
   "source": [
    "e.dataset_id = \"ArgoFloats\"\n",
    "e.protocol = \"tabledap\"\n",
    "e.variables = [\"latitude\",\"longitude\",\"date_creation\"]\n",
    "e.constraints = {\"time>=\": \"2018-08-05T00:00:00Z\",\n",
    "                 \"time<=\": \"2019-06-12T00:00:00Z\",\n",
    "                 \"longitude>=\": -133.75,\n",
    "                 \"longitude<=\": -123.29,\n",
    "                 \"latitude>=\": 41.78,\n",
    "                 \"latitude<=\": 52.24}"
   ]
  },
  {
   "cell_type": "code",
   "execution_count": null,
   "metadata": {},
   "outputs": [],
   "source": [
    "df = e.to_pandas(parse_dates=[\"date_creation (UTC)\"])\n",
    "df[\"year\"] = df[\"date_creation (UTC)\"].dt.year"
   ]
  },
  {
   "cell_type": "markdown",
   "metadata": {},
   "source": [
    "### Plot and inspect data interactively"
   ]
  },
  {
   "cell_type": "code",
   "execution_count": null,
   "metadata": {},
   "outputs": [],
   "source": [
    "import geoviews as gv\n",
    "import geoviews.feature as gf\n",
    "\n",
    "gv.extension(\"bokeh\")"
   ]
  },
  {
   "cell_type": "code",
   "execution_count": null,
   "metadata": {
    "slideshow": {
     "slide_type": "slide"
    }
   },
   "outputs": [],
   "source": [
    "argo = gv.Dataset(df,kdims=[\"year\"])\n",
    "points = argo.to(gv.Points,\n",
    "    [\"longitude (degrees_east)\", \"latitude (degrees_north)\"],\n",
    "    [\"year\"])\n",
    "tiles = gv.tile_sources.Wikipedia\n",
    "tiles * points.opts(tools=[\"hover\"], width=500, height=500,\n",
    "    size=5, cmap=\"tab10\", color=\"year\")"
   ]
  },
  {
   "cell_type": "markdown",
   "metadata": {},
   "source": [
    "## Manipulate and Compute \"Big\" Data\n",
    "\n",
    "In our context, \"big\" means \"larger than memory.\"\n",
    "\n",
    "The example below uses materials created by Ryan Abernathey ([@rabernat](https://github.com/rabernat)) that can be access [here](https://github.com/pangeo-data/pangeo-ocean-examples/blob/master/gfdl-cm2_6.ipynb)."
   ]
  },
  {
   "cell_type": "code",
   "execution_count": null,
   "metadata": {},
   "outputs": [],
   "source": [
    "import numpy as np\n",
    "import xarray as xr\n",
    "import matplotlib.pyplot as plt\n",
    "import holoviews as hv\n",
    "import datashader\n",
    "from holoviews.operation.datashader import regrid, shade, datashade\n",
    "\n",
    "hv.extension('bokeh', width=100)"
   ]
  },
  {
   "cell_type": "markdown",
   "metadata": {},
   "source": [
    "### Load data from Cloud Data Storage"
   ]
  },
  {
   "cell_type": "code",
   "execution_count": null,
   "metadata": {},
   "outputs": [],
   "source": [
    "import intake\n",
    "cat = intake.Catalog(\"https://raw.githubusercontent.com/pangeo-data/pangeo-datastore/master/intake-catalogs/ocean/GFDL_CM2.6.yaml\")\n",
    "ds = cat[\"GFDL_CM2_6_control_ocean_3D\"].to_dask()\n",
    "ds"
   ]
  },
  {
   "cell_type": "markdown",
   "metadata": {},
   "source": [
    "Note the multi-dimensional nature of this data set.\n",
    "\n",
    "Also note the size of the data set:"
   ]
  },
  {
   "cell_type": "code",
   "execution_count": null,
   "metadata": {},
   "outputs": [],
   "source": [
    "print('The size of the data set is %4.2f TB!' % (ds.nbytes/1e12))"
   ]
  },
  {
   "cell_type": "markdown",
   "metadata": {},
   "source": [
    "### Perform distributed computing using xarray/dask"
   ]
  },
  {
   "cell_type": "code",
   "execution_count": null,
   "metadata": {},
   "outputs": [],
   "source": [
    "from dask.distributed import Client, progress\n",
    "from dask_kubernetes import KubeCluster\n",
    "cluster = KubeCluster()\n",
    "cluster.adapt(minimum=1, maximum=20)\n",
    "client = Client(cluster)"
   ]
  },
  {
   "cell_type": "code",
   "execution_count": null,
   "metadata": {},
   "outputs": [],
   "source": [
    "temp_zonal_mean = ds.temp.isel(time=slice(0, 10)).mean(dim=('time', 'xt_ocean'))\n",
    "temp_zonal_mean"
   ]
  },
  {
   "cell_type": "code",
   "execution_count": null,
   "metadata": {},
   "outputs": [],
   "source": [
    "%time temp_zonal_mean.load()"
   ]
  },
  {
   "cell_type": "code",
   "execution_count": null,
   "metadata": {},
   "outputs": [],
   "source": [
    "fig, ax = plt.subplots(figsize=(16,8))\n",
    "temp_zonal_mean.plot.contourf(yincrease=False, levels=np.arange(-2,30))\n",
    "plt.title('Naive Zonal Mean Temperature')"
   ]
  },
  {
   "cell_type": "markdown",
   "metadata": {},
   "source": [
    "## Machine Learning"
   ]
  },
  {
   "cell_type": "markdown",
   "metadata": {},
   "source": [
    "**Motivating questions**\n",
    "- What are the problems you want to solve using machine learning?\n",
    "- Which method(s) should you use?\n",
    "- How do you know if your methods have helped you achieved the goals?"
   ]
  },
  {
   "cell_type": "markdown",
   "metadata": {},
   "source": [
    "**Categories of machine learning methods**\n",
    "* Supervised Learning\n",
    "* Unsupervised Learning\n",
    "* Semi-supervised Learning\n",
    "* Reinforcement Learning"
   ]
  },
  {
   "cell_type": "markdown",
   "metadata": {},
   "source": [
    "**A road map for solving problems**\n",
    "![](./img/MLmap.png)"
   ]
  },
  {
   "cell_type": "markdown",
   "metadata": {},
   "source": [
    "## Reproducible Research"
   ]
  },
  {
   "cell_type": "markdown",
   "metadata": {},
   "source": [
    "- Reproducible vs replicable research?\n",
    "- What should I do when I want to share my work?\n",
    "    - Where to share data?\n",
    "    - How to package software?\n",
    "    - Which license to use?\n",
    "- What should I do to make my code easy to read/use?"
   ]
  },
  {
   "cell_type": "markdown",
   "metadata": {},
   "source": [
    "## Where to go from here?"
   ]
  },
  {
   "cell_type": "markdown",
   "metadata": {},
   "source": [
    "### Ask questions and help your neighbor!"
   ]
  },
  {
   "cell_type": "markdown",
   "metadata": {},
   "source": [
    "### Helpdesks\n",
    "\n",
    "- Machine learning (Tue)\n",
    "- Ocean Data Systems Consultation (Tue-Wed)\n",
    "- Git, Python, and Pangeo (Tue-Thu)"
   ]
  },
  {
   "cell_type": "markdown",
   "metadata": {},
   "source": [
    "### Slack channels\n",
    "\n",
    "_Add yourself to the channels_ you are interested in!\n",
    "\n",
    "**#projects** - Pitch and get feedback for OHW19 projects. Please pin you project ideas so others can scroll through them quickly.\n",
    "\n",
    "**#data_science** - Ask for help with any data science questions (git, Python, methods, tools, etc.).\n",
    "\n",
    "**#ocean_data_systems** - Ask questions about existing ocean data sources and access."
   ]
  },
  {
   "cell_type": "markdown",
   "metadata": {},
   "source": [
    "### Check out [OHW19 wiki](https://oceanhackweek.github.io/wiki)"
   ]
  }
 ],
 "metadata": {
  "kernelspec": {
   "display_name": "ohw19",
   "language": "python",
   "name": "ohw19"
  },
  "language_info": {
   "codemirror_mode": {
    "name": "ipython",
    "version": 3
   },
   "file_extension": ".py",
   "mimetype": "text/x-python",
   "name": "python",
   "nbconvert_exporter": "python",
   "pygments_lexer": "ipython3",
   "version": "3.7.3"
  }
 },
 "nbformat": 4,
 "nbformat_minor": 2
}
