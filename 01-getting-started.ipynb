{
 "cells": [
  {
   "cell_type": "markdown",
   "metadata": {
    "slideshow": {
     "slide_type": "slide"
    }
   },
   "source": [
    "# Getting started in Oceanhackweek 2019\n",
    "\n",
    "You will be able to do the following after this session:\n",
    "- Navigate the Pangeo Jupyter environment.\n",
    "- Open up and edit a notebook.\n",
    "- Open up the terminal and check what Python packages are already installed."
   ]
  },
  {
   "cell_type": "markdown",
   "metadata": {
    "slideshow": {
     "slide_type": "slide"
    }
   },
   "source": [
    "## Navigating the Pangeo Jupyter environment\n",
    "\n",
    "Let's now all logged on to the Pangeo platform [**ocean.pangeo.io**](http://ocean.pangeo.io).\n",
    "\n",
    "We will be using this for all tutorials in OHW19.\n",
    "\n",
    "It is a pretty straghtforward environment to navigate, just be reminded that many of the standard buttons you see on Jupyter notebook that runs locally on your computer are only found on the scroll menu on the left."
   ]
  },
  {
   "cell_type": "markdown",
   "metadata": {
    "slideshow": {
     "slide_type": "slide"
    }
   },
   "source": [
    "## Jupyter notebook\n",
    "\n",
    "The [Jupyter notebook](https://jupyter-notebook.readthedocs.io/en/stable/notebook.html) is a web-based application suitable for capturing the whole process of scientific computation: developing, documenting, and executing code, as well as communicating the results."
   ]
  },
  {
   "cell_type": "markdown",
   "metadata": {
    "slideshow": {
     "slide_type": "slide"
    }
   },
   "source": [
    "## Modular modes\n",
    "Notebook operations can be carried out in two modes:\n",
    "- **Edit mode** (green) is when you can type into a cell.\n",
    "- **Command mode** (blue) is when you can edit the notebook as a whole.\n",
    "- Press `Enter` to go from the command mode to edit mode.\n",
    "- Press `Esc` to go from the edit mode to command mode."
   ]
  },
  {
   "cell_type": "markdown",
   "metadata": {
    "slideshow": {
     "slide_type": "slide"
    }
   },
   "source": [
    "### Useful hot-keys in the Command mode\n",
    "- `m` for markdown, `y` for code, `r` for raw\n",
    "- `a` and `b` to add cell above and below the current cell\n",
    "- `dd` to delete a cell"
   ]
  },
  {
   "cell_type": "code",
   "execution_count": null,
   "metadata": {
    "slideshow": {
     "slide_type": "fragment"
    }
   },
   "outputs": [],
   "source": []
  },
  {
   "cell_type": "code",
   "execution_count": null,
   "metadata": {
    "slideshow": {
     "slide_type": "fragment"
    }
   },
   "outputs": [],
   "source": []
  },
  {
   "cell_type": "code",
   "execution_count": null,
   "metadata": {
    "slideshow": {
     "slide_type": "fragment"
    }
   },
   "outputs": [],
   "source": []
  },
  {
   "cell_type": "markdown",
   "metadata": {
    "slideshow": {
     "slide_type": "slide"
    }
   },
   "source": [
    "### Useful hot-keys in the Edit mode\n",
    "- `Shift-Enter` to evaluate a cell\n",
    "- `Tab` to auto-complete code or increase indent\n",
    "- `Shift-Tab` to bring out quick help for specific functions or decrease indent"
   ]
  },
  {
   "cell_type": "markdown",
   "metadata": {
    "slideshow": {
     "slide_type": "slide"
    }
   },
   "source": [
    "## Let's try these out!"
   ]
  },
  {
   "cell_type": "markdown",
   "metadata": {
    "slideshow": {
     "slide_type": "slide"
    }
   },
   "source": [
    "### Try to write some markdown"
   ]
  },
  {
   "cell_type": "markdown",
   "metadata": {
    "slideshow": {
     "slide_type": "fragment"
    }
   },
   "source": [
    "- [this syntax](link) gives you a hyperlink.\n",
    "    - you can indent the list\n",
    "    - and highlight *important* **things**\n",
    "\n",
    "You can also do Latex: $p(x) = \\frac{1}{\\sqrt{2\\pi\\sigma}} e^{-\\frac{(x-\\mu)^2}{2\\sigma^2}}$ and insert images: ![img](./ohw19_logo.png)"
   ]
  },
  {
   "cell_type": "markdown",
   "metadata": {
    "slideshow": {
     "slide_type": "slide"
    }
   },
   "source": [
    "### Try to plot something"
   ]
  },
  {
   "cell_type": "code",
   "execution_count": null,
   "metadata": {
    "slideshow": {
     "slide_type": "fragment"
    }
   },
   "outputs": [],
   "source": [
    "import numpy as np\n",
    "import matplotlib.pyplot as plt"
   ]
  },
  {
   "cell_type": "code",
   "execution_count": null,
   "metadata": {
    "scrolled": true,
    "slideshow": {
     "slide_type": "fragment"
    }
   },
   "outputs": [],
   "source": [
    "plt.imshow(np.random.rand(10,10))"
   ]
  },
  {
   "cell_type": "markdown",
   "metadata": {
    "slideshow": {
     "slide_type": "slide"
    }
   },
   "source": [
    "## Terminal\n",
    "\n",
    "Terminals, command lines or consoles: communicate with the computer without using a GUI.\n",
    "\n",
    "Many under-the-hood operations for scientific Python computing requires you to be familiar with basic terminal operations. \n",
    "\n",
    "In OHW19 you will use terminals quite a bit, with `git` this afternoon and project work throughout the week."
   ]
  },
  {
   "cell_type": "markdown",
   "metadata": {},
   "source": [
    "One thing we can quickly try now is to open up a terminal on Pangeo and check what packages are already installed in your environment:\n",
    "\n",
    "```~shell\n",
    "$ conda list\n",
    "```"
   ]
  }
 ],
 "metadata": {
  "celltoolbar": "Slideshow",
  "kernelspec": {
   "display_name": "ohw19",
   "language": "python",
   "name": "ohw19"
  },
  "language_info": {
   "codemirror_mode": {
    "name": "ipython",
    "version": 3
   },
   "file_extension": ".py",
   "mimetype": "text/x-python",
   "name": "python",
   "nbconvert_exporter": "python",
   "pygments_lexer": "ipython3",
   "version": "3.7.3"
  }
 },
 "nbformat": 4,
 "nbformat_minor": 2
}
